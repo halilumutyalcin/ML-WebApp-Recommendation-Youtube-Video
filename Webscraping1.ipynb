{
 "cells": [
  {
   "cell_type": "markdown",
   "metadata": {
    "colab_type": "text",
    "id": "0grfM3_ugFoC"
   },
   "source": [
    "# Youtube Recommendation Video System"
   ]
  },
  {
   "cell_type": "code",
   "execution_count": 1,
   "metadata": {
    "colab": {},
    "colab_type": "code",
    "id": "-ZhXzPIwfjsI"
   },
   "outputs": [],
   "source": [
    "# Import Libraries\n",
    "import pandas as pd\n",
    "import numpy as np\n",
    "import re\n",
    "import time\n",
    "import bs4 as bs4\n",
    "import requests as rq\n",
    "import json\n",
    "import os \n"
   ]
  },
  {
   "cell_type": "markdown",
   "metadata": {
    "colab_type": "text",
    "id": "DgjsZ-5Bg4x8"
   },
   "source": [
    " ## Data Search\n",
    "\n",
    "\n",
    "* #### Webscraping youtube\n",
    "\n"
   ]
  },
  {
   "cell_type": "markdown",
   "metadata": {
    "colab_type": "text",
    "id": "cGYV49CdhnoM"
   },
   "source": [
    "\n",
    "\n",
    "## 1.  Youtube search page Structure (URL)\n",
    "\n",
    "\n"
   ]
  },
  {
   "cell_type": "markdown",
   "metadata": {
    "colab_type": "text",
    "id": "nZVuovrF2obc"
   },
   "source": [
    "The image below shows the strucute of the youtube url. We have the main page, then the search page(opens when we search our query), the way the videos will be sorted ( you define it by clicking on Filter) and finally the number of the page that's being searched. "
   ]
  },
  {
   "cell_type": "markdown",
   "metadata": {
    "colab_type": "text",
    "id": "aFwBFy660aIz"
   },
   "source": [
    "\n",
    "![alt text](https://drive.google.com/uc?id=15I0wM3OOiHQ3J3Ls_dDoq4Fax9PILFAw)\n",
    "\n"
   ]
  },
  {
   "cell_type": "code",
   "execution_count": 2,
   "metadata": {
    "colab": {},
    "colab_type": "code",
    "id": "1vFGX3b_hldT"
   },
   "outputs": [],
   "source": [
    "# what I want to search \n",
    "queries = ['machine+learnin','data+science','deep+learning' ] \n",
    "# The url structure of youtube - see image below\n",
    "url = \"http://www.youtube.com/results?search_query={query}&sp=CAI%253D&p={page}\""
   ]
  },
  {
   "cell_type": "code",
   "execution_count": 3,
   "metadata": {
    "colab": {
     "base_uri": "https://localhost:8080/",
     "height": 34
    },
    "colab_type": "code",
    "id": "-RG9UzR6hpE8",
    "outputId": "851c7542-36ce-4464-a61f-326d4973c5c8"
   },
   "outputs": [
    {
     "data": {
      "text/plain": [
       "'http://www.youtube.com/results?search_query=machine+learning&sp=CAI%253D&p=1'"
      ]
     },
     "execution_count": 3,
     "metadata": {},
     "output_type": "execute_result"
    }
   ],
   "source": [
    "# example of a search query \n",
    "url.format(query =\"machine+learning\",page = 1)"
   ]
  },
  {
   "cell_type": "code",
   "execution_count": 9,
   "metadata": {
    "colab": {},
    "colab_type": "code",
    "id": "2iMwdGOe4Tux"
   },
   "outputs": [],
   "source": [
    "# Making sure the folder I will store the raw data exists (create directory in case it does not exist)\n",
    "data_dir = '../Youtube_Video_Recommendation_System/raw_data'\n",
    "if not os.path.exists(data_dir):\n",
    "  os.makedirs(data_dir)"
   ]
  },
  {
   "cell_type": "code",
   "execution_count": 10,
   "metadata": {
    "colab": {},
    "colab_type": "code",
    "id": "bDwNKIlT8Ufn"
   },
   "outputs": [
    {
     "name": "stdout",
     "output_type": "stream",
     "text": [
      "http://www.youtube.com/results?search_query=machine+learnin&sp=CAI%253D&p=1\n",
      "http://www.youtube.com/results?search_query=machine+learnin&sp=CAI%253D&p=2\n",
      "http://www.youtube.com/results?search_query=machine+learnin&sp=CAI%253D&p=3\n",
      "http://www.youtube.com/results?search_query=machine+learnin&sp=CAI%253D&p=4\n",
      "http://www.youtube.com/results?search_query=machine+learnin&sp=CAI%253D&p=5\n",
      "http://www.youtube.com/results?search_query=machine+learnin&sp=CAI%253D&p=6\n",
      "http://www.youtube.com/results?search_query=machine+learnin&sp=CAI%253D&p=7\n",
      "http://www.youtube.com/results?search_query=machine+learnin&sp=CAI%253D&p=8\n",
      "http://www.youtube.com/results?search_query=machine+learnin&sp=CAI%253D&p=9\n",
      "http://www.youtube.com/results?search_query=machine+learnin&sp=CAI%253D&p=10\n",
      "http://www.youtube.com/results?search_query=machine+learnin&sp=CAI%253D&p=11\n",
      "http://www.youtube.com/results?search_query=machine+learnin&sp=CAI%253D&p=12\n",
      "http://www.youtube.com/results?search_query=machine+learnin&sp=CAI%253D&p=13\n",
      "http://www.youtube.com/results?search_query=machine+learnin&sp=CAI%253D&p=14\n",
      "http://www.youtube.com/results?search_query=machine+learnin&sp=CAI%253D&p=15\n",
      "http://www.youtube.com/results?search_query=machine+learnin&sp=CAI%253D&p=16\n",
      "http://www.youtube.com/results?search_query=machine+learnin&sp=CAI%253D&p=17\n",
      "http://www.youtube.com/results?search_query=machine+learnin&sp=CAI%253D&p=18\n",
      "http://www.youtube.com/results?search_query=machine+learnin&sp=CAI%253D&p=19\n",
      "http://www.youtube.com/results?search_query=machine+learnin&sp=CAI%253D&p=20\n",
      "http://www.youtube.com/results?search_query=machine+learnin&sp=CAI%253D&p=21\n",
      "http://www.youtube.com/results?search_query=machine+learnin&sp=CAI%253D&p=22\n",
      "http://www.youtube.com/results?search_query=machine+learnin&sp=CAI%253D&p=23\n",
      "http://www.youtube.com/results?search_query=machine+learnin&sp=CAI%253D&p=24\n",
      "http://www.youtube.com/results?search_query=machine+learnin&sp=CAI%253D&p=25\n",
      "http://www.youtube.com/results?search_query=machine+learnin&sp=CAI%253D&p=26\n",
      "http://www.youtube.com/results?search_query=machine+learnin&sp=CAI%253D&p=27\n",
      "http://www.youtube.com/results?search_query=machine+learnin&sp=CAI%253D&p=28\n",
      "http://www.youtube.com/results?search_query=machine+learnin&sp=CAI%253D&p=29\n",
      "http://www.youtube.com/results?search_query=machine+learnin&sp=CAI%253D&p=30\n",
      "http://www.youtube.com/results?search_query=machine+learnin&sp=CAI%253D&p=31\n",
      "http://www.youtube.com/results?search_query=machine+learnin&sp=CAI%253D&p=32\n",
      "http://www.youtube.com/results?search_query=machine+learnin&sp=CAI%253D&p=33\n",
      "http://www.youtube.com/results?search_query=machine+learnin&sp=CAI%253D&p=34\n",
      "http://www.youtube.com/results?search_query=machine+learnin&sp=CAI%253D&p=35\n",
      "http://www.youtube.com/results?search_query=machine+learnin&sp=CAI%253D&p=36\n",
      "http://www.youtube.com/results?search_query=machine+learnin&sp=CAI%253D&p=37\n",
      "http://www.youtube.com/results?search_query=machine+learnin&sp=CAI%253D&p=38\n",
      "http://www.youtube.com/results?search_query=machine+learnin&sp=CAI%253D&p=39\n",
      "http://www.youtube.com/results?search_query=machine+learnin&sp=CAI%253D&p=40\n",
      "http://www.youtube.com/results?search_query=machine+learnin&sp=CAI%253D&p=41\n",
      "http://www.youtube.com/results?search_query=machine+learnin&sp=CAI%253D&p=42\n",
      "http://www.youtube.com/results?search_query=machine+learnin&sp=CAI%253D&p=43\n",
      "http://www.youtube.com/results?search_query=machine+learnin&sp=CAI%253D&p=44\n",
      "http://www.youtube.com/results?search_query=machine+learnin&sp=CAI%253D&p=45\n",
      "http://www.youtube.com/results?search_query=machine+learnin&sp=CAI%253D&p=46\n",
      "http://www.youtube.com/results?search_query=machine+learnin&sp=CAI%253D&p=47\n",
      "http://www.youtube.com/results?search_query=machine+learnin&sp=CAI%253D&p=48\n",
      "http://www.youtube.com/results?search_query=machine+learnin&sp=CAI%253D&p=49\n",
      "http://www.youtube.com/results?search_query=machine+learnin&sp=CAI%253D&p=50\n",
      "http://www.youtube.com/results?search_query=machine+learnin&sp=CAI%253D&p=51\n",
      "http://www.youtube.com/results?search_query=machine+learnin&sp=CAI%253D&p=52\n",
      "http://www.youtube.com/results?search_query=machine+learnin&sp=CAI%253D&p=53\n",
      "http://www.youtube.com/results?search_query=machine+learnin&sp=CAI%253D&p=54\n",
      "http://www.youtube.com/results?search_query=machine+learnin&sp=CAI%253D&p=55\n",
      "http://www.youtube.com/results?search_query=machine+learnin&sp=CAI%253D&p=56\n",
      "http://www.youtube.com/results?search_query=machine+learnin&sp=CAI%253D&p=57\n",
      "http://www.youtube.com/results?search_query=machine+learnin&sp=CAI%253D&p=58\n",
      "http://www.youtube.com/results?search_query=machine+learnin&sp=CAI%253D&p=59\n",
      "http://www.youtube.com/results?search_query=machine+learnin&sp=CAI%253D&p=60\n",
      "http://www.youtube.com/results?search_query=machine+learnin&sp=CAI%253D&p=61\n",
      "http://www.youtube.com/results?search_query=machine+learnin&sp=CAI%253D&p=62\n",
      "http://www.youtube.com/results?search_query=machine+learnin&sp=CAI%253D&p=63\n",
      "http://www.youtube.com/results?search_query=machine+learnin&sp=CAI%253D&p=64\n",
      "http://www.youtube.com/results?search_query=machine+learnin&sp=CAI%253D&p=65\n",
      "http://www.youtube.com/results?search_query=machine+learnin&sp=CAI%253D&p=66\n",
      "http://www.youtube.com/results?search_query=machine+learnin&sp=CAI%253D&p=67\n",
      "http://www.youtube.com/results?search_query=machine+learnin&sp=CAI%253D&p=68\n",
      "http://www.youtube.com/results?search_query=machine+learnin&sp=CAI%253D&p=69\n",
      "http://www.youtube.com/results?search_query=machine+learnin&sp=CAI%253D&p=70\n",
      "http://www.youtube.com/results?search_query=machine+learnin&sp=CAI%253D&p=71\n",
      "http://www.youtube.com/results?search_query=machine+learnin&sp=CAI%253D&p=72\n",
      "http://www.youtube.com/results?search_query=machine+learnin&sp=CAI%253D&p=73\n",
      "http://www.youtube.com/results?search_query=machine+learnin&sp=CAI%253D&p=74\n",
      "http://www.youtube.com/results?search_query=machine+learnin&sp=CAI%253D&p=75\n",
      "http://www.youtube.com/results?search_query=machine+learnin&sp=CAI%253D&p=76\n",
      "http://www.youtube.com/results?search_query=machine+learnin&sp=CAI%253D&p=77\n",
      "http://www.youtube.com/results?search_query=machine+learnin&sp=CAI%253D&p=78\n",
      "http://www.youtube.com/results?search_query=machine+learnin&sp=CAI%253D&p=79\n",
      "http://www.youtube.com/results?search_query=machine+learnin&sp=CAI%253D&p=80\n",
      "http://www.youtube.com/results?search_query=machine+learnin&sp=CAI%253D&p=81\n",
      "http://www.youtube.com/results?search_query=machine+learnin&sp=CAI%253D&p=82\n",
      "http://www.youtube.com/results?search_query=machine+learnin&sp=CAI%253D&p=83\n",
      "http://www.youtube.com/results?search_query=machine+learnin&sp=CAI%253D&p=84\n",
      "http://www.youtube.com/results?search_query=machine+learnin&sp=CAI%253D&p=85\n",
      "http://www.youtube.com/results?search_query=machine+learnin&sp=CAI%253D&p=86\n",
      "http://www.youtube.com/results?search_query=machine+learnin&sp=CAI%253D&p=87\n",
      "http://www.youtube.com/results?search_query=machine+learnin&sp=CAI%253D&p=88\n",
      "http://www.youtube.com/results?search_query=machine+learnin&sp=CAI%253D&p=89\n",
      "http://www.youtube.com/results?search_query=machine+learnin&sp=CAI%253D&p=90\n",
      "http://www.youtube.com/results?search_query=data+science&sp=CAI%253D&p=1\n",
      "http://www.youtube.com/results?search_query=data+science&sp=CAI%253D&p=2\n",
      "http://www.youtube.com/results?search_query=data+science&sp=CAI%253D&p=3\n",
      "http://www.youtube.com/results?search_query=data+science&sp=CAI%253D&p=4\n",
      "http://www.youtube.com/results?search_query=data+science&sp=CAI%253D&p=5\n",
      "http://www.youtube.com/results?search_query=data+science&sp=CAI%253D&p=6\n",
      "http://www.youtube.com/results?search_query=data+science&sp=CAI%253D&p=7\n",
      "http://www.youtube.com/results?search_query=data+science&sp=CAI%253D&p=8\n",
      "http://www.youtube.com/results?search_query=data+science&sp=CAI%253D&p=9\n",
      "http://www.youtube.com/results?search_query=data+science&sp=CAI%253D&p=10\n",
      "http://www.youtube.com/results?search_query=data+science&sp=CAI%253D&p=11\n",
      "http://www.youtube.com/results?search_query=data+science&sp=CAI%253D&p=12\n",
      "http://www.youtube.com/results?search_query=data+science&sp=CAI%253D&p=13\n",
      "http://www.youtube.com/results?search_query=data+science&sp=CAI%253D&p=14\n",
      "http://www.youtube.com/results?search_query=data+science&sp=CAI%253D&p=15\n",
      "http://www.youtube.com/results?search_query=data+science&sp=CAI%253D&p=16\n",
      "http://www.youtube.com/results?search_query=data+science&sp=CAI%253D&p=17\n",
      "http://www.youtube.com/results?search_query=data+science&sp=CAI%253D&p=18\n",
      "http://www.youtube.com/results?search_query=data+science&sp=CAI%253D&p=19\n",
      "http://www.youtube.com/results?search_query=data+science&sp=CAI%253D&p=20\n",
      "http://www.youtube.com/results?search_query=data+science&sp=CAI%253D&p=21\n",
      "http://www.youtube.com/results?search_query=data+science&sp=CAI%253D&p=22\n",
      "http://www.youtube.com/results?search_query=data+science&sp=CAI%253D&p=23\n",
      "http://www.youtube.com/results?search_query=data+science&sp=CAI%253D&p=24\n",
      "http://www.youtube.com/results?search_query=data+science&sp=CAI%253D&p=25\n",
      "http://www.youtube.com/results?search_query=data+science&sp=CAI%253D&p=26\n",
      "http://www.youtube.com/results?search_query=data+science&sp=CAI%253D&p=27\n",
      "http://www.youtube.com/results?search_query=data+science&sp=CAI%253D&p=28\n",
      "http://www.youtube.com/results?search_query=data+science&sp=CAI%253D&p=29\n",
      "http://www.youtube.com/results?search_query=data+science&sp=CAI%253D&p=30\n",
      "http://www.youtube.com/results?search_query=data+science&sp=CAI%253D&p=31\n",
      "http://www.youtube.com/results?search_query=data+science&sp=CAI%253D&p=32\n",
      "http://www.youtube.com/results?search_query=data+science&sp=CAI%253D&p=33\n",
      "http://www.youtube.com/results?search_query=data+science&sp=CAI%253D&p=34\n",
      "http://www.youtube.com/results?search_query=data+science&sp=CAI%253D&p=35\n",
      "http://www.youtube.com/results?search_query=data+science&sp=CAI%253D&p=36\n",
      "http://www.youtube.com/results?search_query=data+science&sp=CAI%253D&p=37\n",
      "http://www.youtube.com/results?search_query=data+science&sp=CAI%253D&p=38\n",
      "http://www.youtube.com/results?search_query=data+science&sp=CAI%253D&p=39\n",
      "http://www.youtube.com/results?search_query=data+science&sp=CAI%253D&p=40\n",
      "http://www.youtube.com/results?search_query=data+science&sp=CAI%253D&p=41\n",
      "http://www.youtube.com/results?search_query=data+science&sp=CAI%253D&p=42\n",
      "http://www.youtube.com/results?search_query=data+science&sp=CAI%253D&p=43\n",
      "http://www.youtube.com/results?search_query=data+science&sp=CAI%253D&p=44\n",
      "http://www.youtube.com/results?search_query=data+science&sp=CAI%253D&p=45\n",
      "http://www.youtube.com/results?search_query=data+science&sp=CAI%253D&p=46\n",
      "http://www.youtube.com/results?search_query=data+science&sp=CAI%253D&p=47\n",
      "http://www.youtube.com/results?search_query=data+science&sp=CAI%253D&p=48\n",
      "http://www.youtube.com/results?search_query=data+science&sp=CAI%253D&p=49\n",
      "http://www.youtube.com/results?search_query=data+science&sp=CAI%253D&p=50\n",
      "http://www.youtube.com/results?search_query=data+science&sp=CAI%253D&p=51\n",
      "http://www.youtube.com/results?search_query=data+science&sp=CAI%253D&p=52\n",
      "http://www.youtube.com/results?search_query=data+science&sp=CAI%253D&p=53\n",
      "http://www.youtube.com/results?search_query=data+science&sp=CAI%253D&p=54\n",
      "http://www.youtube.com/results?search_query=data+science&sp=CAI%253D&p=55\n",
      "http://www.youtube.com/results?search_query=data+science&sp=CAI%253D&p=56\n",
      "http://www.youtube.com/results?search_query=data+science&sp=CAI%253D&p=57\n",
      "http://www.youtube.com/results?search_query=data+science&sp=CAI%253D&p=58\n",
      "http://www.youtube.com/results?search_query=data+science&sp=CAI%253D&p=59\n",
      "http://www.youtube.com/results?search_query=data+science&sp=CAI%253D&p=60\n",
      "http://www.youtube.com/results?search_query=data+science&sp=CAI%253D&p=61\n",
      "http://www.youtube.com/results?search_query=data+science&sp=CAI%253D&p=62\n",
      "http://www.youtube.com/results?search_query=data+science&sp=CAI%253D&p=63\n",
      "http://www.youtube.com/results?search_query=data+science&sp=CAI%253D&p=64\n",
      "http://www.youtube.com/results?search_query=data+science&sp=CAI%253D&p=65\n",
      "http://www.youtube.com/results?search_query=data+science&sp=CAI%253D&p=66\n",
      "http://www.youtube.com/results?search_query=data+science&sp=CAI%253D&p=67\n",
      "http://www.youtube.com/results?search_query=data+science&sp=CAI%253D&p=68\n",
      "http://www.youtube.com/results?search_query=data+science&sp=CAI%253D&p=69\n",
      "http://www.youtube.com/results?search_query=data+science&sp=CAI%253D&p=70\n",
      "http://www.youtube.com/results?search_query=data+science&sp=CAI%253D&p=71\n",
      "http://www.youtube.com/results?search_query=data+science&sp=CAI%253D&p=72\n",
      "http://www.youtube.com/results?search_query=data+science&sp=CAI%253D&p=73\n",
      "http://www.youtube.com/results?search_query=data+science&sp=CAI%253D&p=74\n",
      "http://www.youtube.com/results?search_query=data+science&sp=CAI%253D&p=75\n",
      "http://www.youtube.com/results?search_query=data+science&sp=CAI%253D&p=76\n",
      "http://www.youtube.com/results?search_query=data+science&sp=CAI%253D&p=77\n",
      "http://www.youtube.com/results?search_query=data+science&sp=CAI%253D&p=78\n",
      "http://www.youtube.com/results?search_query=data+science&sp=CAI%253D&p=79\n",
      "http://www.youtube.com/results?search_query=data+science&sp=CAI%253D&p=80\n",
      "http://www.youtube.com/results?search_query=data+science&sp=CAI%253D&p=81\n",
      "http://www.youtube.com/results?search_query=data+science&sp=CAI%253D&p=82\n",
      "http://www.youtube.com/results?search_query=data+science&sp=CAI%253D&p=83\n",
      "http://www.youtube.com/results?search_query=data+science&sp=CAI%253D&p=84\n",
      "http://www.youtube.com/results?search_query=data+science&sp=CAI%253D&p=85\n",
      "http://www.youtube.com/results?search_query=data+science&sp=CAI%253D&p=86\n",
      "http://www.youtube.com/results?search_query=data+science&sp=CAI%253D&p=87\n",
      "http://www.youtube.com/results?search_query=data+science&sp=CAI%253D&p=88\n",
      "http://www.youtube.com/results?search_query=data+science&sp=CAI%253D&p=89\n",
      "http://www.youtube.com/results?search_query=data+science&sp=CAI%253D&p=90\n",
      "http://www.youtube.com/results?search_query=deep+learning&sp=CAI%253D&p=1\n",
      "http://www.youtube.com/results?search_query=deep+learning&sp=CAI%253D&p=2\n",
      "http://www.youtube.com/results?search_query=deep+learning&sp=CAI%253D&p=3\n",
      "http://www.youtube.com/results?search_query=deep+learning&sp=CAI%253D&p=4\n",
      "http://www.youtube.com/results?search_query=deep+learning&sp=CAI%253D&p=5\n",
      "http://www.youtube.com/results?search_query=deep+learning&sp=CAI%253D&p=6\n",
      "http://www.youtube.com/results?search_query=deep+learning&sp=CAI%253D&p=7\n",
      "http://www.youtube.com/results?search_query=deep+learning&sp=CAI%253D&p=8\n",
      "http://www.youtube.com/results?search_query=deep+learning&sp=CAI%253D&p=9\n",
      "http://www.youtube.com/results?search_query=deep+learning&sp=CAI%253D&p=10\n",
      "http://www.youtube.com/results?search_query=deep+learning&sp=CAI%253D&p=11\n",
      "http://www.youtube.com/results?search_query=deep+learning&sp=CAI%253D&p=12\n",
      "http://www.youtube.com/results?search_query=deep+learning&sp=CAI%253D&p=13\n",
      "http://www.youtube.com/results?search_query=deep+learning&sp=CAI%253D&p=14\n",
      "http://www.youtube.com/results?search_query=deep+learning&sp=CAI%253D&p=15\n",
      "http://www.youtube.com/results?search_query=deep+learning&sp=CAI%253D&p=16\n",
      "http://www.youtube.com/results?search_query=deep+learning&sp=CAI%253D&p=17\n",
      "http://www.youtube.com/results?search_query=deep+learning&sp=CAI%253D&p=18\n",
      "http://www.youtube.com/results?search_query=deep+learning&sp=CAI%253D&p=19\n",
      "http://www.youtube.com/results?search_query=deep+learning&sp=CAI%253D&p=20\n",
      "http://www.youtube.com/results?search_query=deep+learning&sp=CAI%253D&p=21\n",
      "http://www.youtube.com/results?search_query=deep+learning&sp=CAI%253D&p=22\n",
      "http://www.youtube.com/results?search_query=deep+learning&sp=CAI%253D&p=23\n",
      "http://www.youtube.com/results?search_query=deep+learning&sp=CAI%253D&p=24\n",
      "http://www.youtube.com/results?search_query=deep+learning&sp=CAI%253D&p=25\n",
      "http://www.youtube.com/results?search_query=deep+learning&sp=CAI%253D&p=26\n",
      "http://www.youtube.com/results?search_query=deep+learning&sp=CAI%253D&p=27\n",
      "http://www.youtube.com/results?search_query=deep+learning&sp=CAI%253D&p=28\n",
      "http://www.youtube.com/results?search_query=deep+learning&sp=CAI%253D&p=29\n",
      "http://www.youtube.com/results?search_query=deep+learning&sp=CAI%253D&p=30\n",
      "http://www.youtube.com/results?search_query=deep+learning&sp=CAI%253D&p=31\n",
      "http://www.youtube.com/results?search_query=deep+learning&sp=CAI%253D&p=32\n",
      "http://www.youtube.com/results?search_query=deep+learning&sp=CAI%253D&p=33\n",
      "http://www.youtube.com/results?search_query=deep+learning&sp=CAI%253D&p=34\n",
      "http://www.youtube.com/results?search_query=deep+learning&sp=CAI%253D&p=35\n",
      "http://www.youtube.com/results?search_query=deep+learning&sp=CAI%253D&p=36\n",
      "http://www.youtube.com/results?search_query=deep+learning&sp=CAI%253D&p=37\n",
      "http://www.youtube.com/results?search_query=deep+learning&sp=CAI%253D&p=38\n",
      "http://www.youtube.com/results?search_query=deep+learning&sp=CAI%253D&p=39\n",
      "http://www.youtube.com/results?search_query=deep+learning&sp=CAI%253D&p=40\n",
      "http://www.youtube.com/results?search_query=deep+learning&sp=CAI%253D&p=41\n",
      "http://www.youtube.com/results?search_query=deep+learning&sp=CAI%253D&p=42\n",
      "http://www.youtube.com/results?search_query=deep+learning&sp=CAI%253D&p=43\n",
      "http://www.youtube.com/results?search_query=deep+learning&sp=CAI%253D&p=44\n",
      "http://www.youtube.com/results?search_query=deep+learning&sp=CAI%253D&p=45\n",
      "http://www.youtube.com/results?search_query=deep+learning&sp=CAI%253D&p=46\n",
      "http://www.youtube.com/results?search_query=deep+learning&sp=CAI%253D&p=47\n",
      "http://www.youtube.com/results?search_query=deep+learning&sp=CAI%253D&p=48\n",
      "http://www.youtube.com/results?search_query=deep+learning&sp=CAI%253D&p=49\n",
      "http://www.youtube.com/results?search_query=deep+learning&sp=CAI%253D&p=50\n",
      "http://www.youtube.com/results?search_query=deep+learning&sp=CAI%253D&p=51\n",
      "http://www.youtube.com/results?search_query=deep+learning&sp=CAI%253D&p=52\n",
      "http://www.youtube.com/results?search_query=deep+learning&sp=CAI%253D&p=53\n",
      "http://www.youtube.com/results?search_query=deep+learning&sp=CAI%253D&p=54\n",
      "http://www.youtube.com/results?search_query=deep+learning&sp=CAI%253D&p=55\n",
      "http://www.youtube.com/results?search_query=deep+learning&sp=CAI%253D&p=56\n",
      "http://www.youtube.com/results?search_query=deep+learning&sp=CAI%253D&p=57\n",
      "http://www.youtube.com/results?search_query=deep+learning&sp=CAI%253D&p=58\n",
      "http://www.youtube.com/results?search_query=deep+learning&sp=CAI%253D&p=59\n",
      "http://www.youtube.com/results?search_query=deep+learning&sp=CAI%253D&p=60\n",
      "http://www.youtube.com/results?search_query=deep+learning&sp=CAI%253D&p=61\n",
      "http://www.youtube.com/results?search_query=deep+learning&sp=CAI%253D&p=62\n",
      "http://www.youtube.com/results?search_query=deep+learning&sp=CAI%253D&p=63\n",
      "http://www.youtube.com/results?search_query=deep+learning&sp=CAI%253D&p=64\n",
      "http://www.youtube.com/results?search_query=deep+learning&sp=CAI%253D&p=65\n",
      "http://www.youtube.com/results?search_query=deep+learning&sp=CAI%253D&p=66\n",
      "http://www.youtube.com/results?search_query=deep+learning&sp=CAI%253D&p=67\n",
      "http://www.youtube.com/results?search_query=deep+learning&sp=CAI%253D&p=68\n",
      "http://www.youtube.com/results?search_query=deep+learning&sp=CAI%253D&p=69\n",
      "http://www.youtube.com/results?search_query=deep+learning&sp=CAI%253D&p=70\n",
      "http://www.youtube.com/results?search_query=deep+learning&sp=CAI%253D&p=71\n",
      "http://www.youtube.com/results?search_query=deep+learning&sp=CAI%253D&p=72\n",
      "http://www.youtube.com/results?search_query=deep+learning&sp=CAI%253D&p=73\n",
      "http://www.youtube.com/results?search_query=deep+learning&sp=CAI%253D&p=74\n",
      "http://www.youtube.com/results?search_query=deep+learning&sp=CAI%253D&p=75\n",
      "http://www.youtube.com/results?search_query=deep+learning&sp=CAI%253D&p=76\n",
      "http://www.youtube.com/results?search_query=deep+learning&sp=CAI%253D&p=77\n",
      "http://www.youtube.com/results?search_query=deep+learning&sp=CAI%253D&p=78\n",
      "http://www.youtube.com/results?search_query=deep+learning&sp=CAI%253D&p=79\n",
      "http://www.youtube.com/results?search_query=deep+learning&sp=CAI%253D&p=80\n",
      "http://www.youtube.com/results?search_query=deep+learning&sp=CAI%253D&p=81\n",
      "http://www.youtube.com/results?search_query=deep+learning&sp=CAI%253D&p=82\n",
      "http://www.youtube.com/results?search_query=deep+learning&sp=CAI%253D&p=83\n",
      "http://www.youtube.com/results?search_query=deep+learning&sp=CAI%253D&p=84\n",
      "http://www.youtube.com/results?search_query=deep+learning&sp=CAI%253D&p=85\n",
      "http://www.youtube.com/results?search_query=deep+learning&sp=CAI%253D&p=86\n",
      "http://www.youtube.com/results?search_query=deep+learning&sp=CAI%253D&p=87\n",
      "http://www.youtube.com/results?search_query=deep+learning&sp=CAI%253D&p=88\n",
      "http://www.youtube.com/results?search_query=deep+learning&sp=CAI%253D&p=89\n",
      "http://www.youtube.com/results?search_query=deep+learning&sp=CAI%253D&p=90\n"
     ]
    }
   ],
   "source": [
    "for query in queries:\n",
    "  for page in range(1,91): #from page 0 to 50\n",
    "    urll = url.format(query = query, page= page)\n",
    "    print(urll)\n",
    "    response = rq.get(urll) # get request to retrieve data from page\n",
    "\n",
    "    # Save each url in raw_data folder \n",
    "    with open(data_dir+\"/{}_{}.html\".format(query,page),\"w+\") as output:\n",
    "      output.write(response.text)\n",
    "      time.sleep(2)\n",
    "\n"
   ]
  },
  {
   "cell_type": "markdown",
   "metadata": {
    "colab_type": "text",
    "id": "OlkPAn4b_J9k"
   },
   "source": [
    "# Data Parsing"
   ]
  },
  {
   "cell_type": "markdown",
   "metadata": {
    "colab_type": "text",
    "id": "lbXBXA8HKC9y"
   },
   "source": [
    "Now that I have all urls saved in my raw_data folder, I am able to parse them the format I want."
   ]
  },
  {
   "cell_type": "markdown",
   "metadata": {
    "colab_type": "text",
    "id": "JiTHcooxRubS"
   },
   "source": [
    "###  Test data Parsing "
   ]
  },
  {
   "cell_type": "code",
   "execution_count": 4,
   "metadata": {
    "colab": {},
    "colab_type": "code",
    "id": "uHJS89sa-1Pw"
   },
   "outputs": [],
   "source": [
    "for query in queries:\n",
    "  for page in range(1,91):\n",
    "    # read each page \n",
    "    with open(\"./raw_data/{}_{}.html\".format(query, page), \"r+\") as f: \n",
    "      page_html = f.read()\n",
    "\n",
    "      # BeautifulSoup Object to be parsed\n",
    "      parsed = bs4.BeautifulSoup(page_html)\n",
    "\n",
    "      # The tag we find the information we want\n",
    "      # The tag \"a\" defines a hyperlink, which is used to link from one page to another\n",
    "      tags = parsed.findAll(\"a\")\n",
    "\n",
    "      for e in tags:\n",
    "        if e.has_attr(\"aria-describedby\"):\n",
    "          link = e['href']      # get link addres \n",
    "          title = e['title']    # get link title\n",
    "\n",
    "          # Save parsed as json file \n",
    "          with open(\"parsed_videos.json\", \"a+\") as output:\n",
    "            data = {\"link\": link, \n",
    "                    \"title\":title,\n",
    "                    \"query\":query}\n",
    "\n",
    "            output.write(\"{}\\n\".format(json.dumps(data)))\n",
    "\n"
   ]
  },
  {
   "cell_type": "code",
   "execution_count": 5,
   "metadata": {
    "colab": {
     "base_uri": "https://localhost:8080/",
     "height": 224
    },
    "colab_type": "code",
    "id": "RkSr6w-mR2SO",
    "outputId": "01fb9144-b101-4a49-994d-a840141caa72"
   },
   "outputs": [
    {
     "name": "stdout",
     "output_type": "stream",
     "text": [
      "Parsed object type <class 'bs4.BeautifulSoup'>:\n",
      "\n",
      "First element (first page link):\n",
      "<a class=\"masthead-logo-renderer yt-uix-sessionlink spf-link\" data-sessionlink=\"itct=CAMQsV4iEwjHsufayb7oAhUHCAYAHQlnDA8\" href=\"/\" id=\"logo-container\" title=\"YouTube Home\"> <span class=\"logo masthead-logo-renderer-logo yt-sprite\" title=\"YouTube Home\"></span>\n",
      "<span class=\"content-region\">IE</span></a>\n",
      "\n",
      "Classes of the tag:\n",
      "['masthead-logo-renderer', 'yt-uix-sessionlink', 'spf-link']\n",
      "\n",
      "The json file:\n",
      "{\"link\": \"/watch?v=PlhFWT7vAEw\", \"title\": \"Deep Learning Lecture 1: Introduction\", \"query\": \"deep+learning\"}\n"
     ]
    }
   ],
   "source": [
    "# Check if my json file is the way I want\n",
    "print('Parsed object type {}:'.format(type(parsed)))\n",
    "print()\n",
    "print('First element (first page link):\\n{}'.format(tags[0]))\n",
    "print()\n",
    "print('Classes of the tag:\\n{}'.format(tags[0]['class']))\n",
    "print()\n",
    "print('The json file:\\n{}'.format(json.dumps(data)))"
   ]
  },
  {
   "cell_type": "markdown",
   "metadata": {
    "colab_type": "text",
    "id": "V9SUXNEN2ulI"
   },
   "source": [
    "# Verify Results"
   ]
  },
  {
   "cell_type": "code",
   "execution_count": 6,
   "metadata": {
    "colab": {
     "base_uri": "https://localhost:8080/",
     "height": 204
    },
    "colab_type": "code",
    "id": "giS6eb7ByvP2",
    "outputId": "7d5a0e60-f754-492e-dfc0-31f9068b0621"
   },
   "outputs": [
    {
     "data": {
      "text/html": [
       "<div>\n",
       "<style scoped>\n",
       "    .dataframe tbody tr th:only-of-type {\n",
       "        vertical-align: middle;\n",
       "    }\n",
       "\n",
       "    .dataframe tbody tr th {\n",
       "        vertical-align: top;\n",
       "    }\n",
       "\n",
       "    .dataframe thead th {\n",
       "        text-align: right;\n",
       "    }\n",
       "</style>\n",
       "<table border=\"1\" class=\"dataframe\">\n",
       "  <thead>\n",
       "    <tr style=\"text-align: right;\">\n",
       "      <th></th>\n",
       "      <th>link</th>\n",
       "      <th>title</th>\n",
       "      <th>query</th>\n",
       "    </tr>\n",
       "  </thead>\n",
       "  <tbody>\n",
       "    <tr>\n",
       "      <th>0</th>\n",
       "      <td>/watch?v=ofYIsToVnT0</td>\n",
       "      <td>Azure Databricks = Azure + Spark + Machine Lea...</td>\n",
       "      <td>machine+learnin</td>\n",
       "    </tr>\n",
       "    <tr>\n",
       "      <th>1</th>\n",
       "      <td>/watch?v=AmZRpyFJDx8</td>\n",
       "      <td>Machine Learning Tool KNN (K- Nearest Neighbou...</td>\n",
       "      <td>machine+learnin</td>\n",
       "    </tr>\n",
       "    <tr>\n",
       "      <th>2</th>\n",
       "      <td>/watch?v=5ygSefB6YGc</td>\n",
       "      <td>How deep learning is predicting extreme weathe...</td>\n",
       "      <td>machine+learnin</td>\n",
       "    </tr>\n",
       "    <tr>\n",
       "      <th>3</th>\n",
       "      <td>/watch?v=kk2kMpk9Q7g</td>\n",
       "      <td>Decision Tree in Machine Learning</td>\n",
       "      <td>machine+learnin</td>\n",
       "    </tr>\n",
       "    <tr>\n",
       "      <th>4</th>\n",
       "      <td>/watch?v=KReZjW052YU</td>\n",
       "      <td>Numpy Complete Tutorial For Machine Learning |...</td>\n",
       "      <td>machine+learnin</td>\n",
       "    </tr>\n",
       "  </tbody>\n",
       "</table>\n",
       "</div>"
      ],
      "text/plain": [
       "                   link                                              title  \\\n",
       "0  /watch?v=ofYIsToVnT0  Azure Databricks = Azure + Spark + Machine Lea...   \n",
       "1  /watch?v=AmZRpyFJDx8  Machine Learning Tool KNN (K- Nearest Neighbou...   \n",
       "2  /watch?v=5ygSefB6YGc  How deep learning is predicting extreme weathe...   \n",
       "3  /watch?v=kk2kMpk9Q7g                  Decision Tree in Machine Learning   \n",
       "4  /watch?v=KReZjW052YU  Numpy Complete Tutorial For Machine Learning |...   \n",
       "\n",
       "             query  \n",
       "0  machine+learnin  \n",
       "1  machine+learnin  \n",
       "2  machine+learnin  \n",
       "3  machine+learnin  \n",
       "4  machine+learnin  "
      ]
     },
     "execution_count": 6,
     "metadata": {},
     "output_type": "execute_result"
    }
   ],
   "source": [
    "df = pd.read_json(\"parsed_videos.json\",lines = True)\n",
    "df.head()"
   ]
  },
  {
   "cell_type": "code",
   "execution_count": null,
   "metadata": {},
   "outputs": [],
   "source": []
  }
 ],
 "metadata": {
  "accelerator": "GPU",
  "colab": {
   "collapsed_sections": [],
   "name": "Webscraping1.ipynb",
   "provenance": []
  },
  "kernelspec": {
   "display_name": "Python 3",
   "language": "python",
   "name": "python3"
  },
  "language_info": {
   "codemirror_mode": {
    "name": "ipython",
    "version": 3
   },
   "file_extension": ".py",
   "mimetype": "text/x-python",
   "name": "python",
   "nbconvert_exporter": "python",
   "pygments_lexer": "ipython3",
   "version": "3.7.3"
  }
 },
 "nbformat": 4,
 "nbformat_minor": 4
}
